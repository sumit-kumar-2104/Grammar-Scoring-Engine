{
 "cells": [
  {
   "cell_type": "code",
   "execution_count": 2,
   "id": "fde949ce",
   "metadata": {
    "scrolled": true
   },
   "outputs": [
    {
     "name": "stdout",
     "output_type": "stream",
     "text": [
      "/usr/lib/python3/dist-packages/secretstorage/dhcrypto.py:15: CryptographyDeprecationWarning: Python 3.6 is no longer supported by the Python core team. Therefore, support for it is deprecated in cryptography. The next release of cryptography (40.0) will be the last to support Python 3.6.\n",
      "  from cryptography.utils import int_from_bytes\n",
      "Defaulting to user installation because normal site-packages is not writeable\n",
      "Collecting librosa\n",
      "  Using cached librosa-0.9.2-py3-none-any.whl (214 kB)\n",
      "Requirement already satisfied: audioread>=2.1.9 in /home/mansi/.local/lib/python3.6/site-packages (from librosa) (2.1.9)\n",
      "Requirement already satisfied: numpy>=1.17.0 in /home/mansi/.local/lib/python3.6/site-packages (from librosa) (1.19.5)\n",
      "Requirement already satisfied: resampy>=0.2.2 in /home/mansi/.local/lib/python3.6/site-packages (from librosa) (0.2.2)\n",
      "Collecting pooch>=1.0\n",
      "  Using cached pooch-1.6.0-py3-none-any.whl (56 kB)\n",
      "Collecting numba>=0.45.1\n",
      "  Using cached numba-0.53.1-cp36-cp36m-manylinux2014_x86_64.whl (3.4 MB)\n",
      "Requirement already satisfied: decorator>=4.0.10 in /home/mansi/.local/lib/python3.6/site-packages (from librosa) (4.4.1)\n",
      "Requirement already satisfied: joblib>=0.14 in /home/mansi/.local/lib/python3.6/site-packages (from librosa) (1.1.0)\n",
      "Requirement already satisfied: soundfile>=0.10.2 in /home/mansi/.local/lib/python3.6/site-packages (from librosa) (0.10.3.post1)\n",
      "Requirement already satisfied: packaging>=20.0 in /home/mansi/.local/lib/python3.6/site-packages (from librosa) (21.3)\n",
      "Requirement already satisfied: scipy>=1.2.0 in /home/mansi/.local/lib/python3.6/site-packages (from librosa) (1.5.4)\n",
      "Requirement already satisfied: scikit-learn>=0.19.1 in /home/mansi/.local/lib/python3.6/site-packages (from librosa) (0.23.2)\n",
      "Requirement already satisfied: setuptools in /home/mansi/.local/lib/python3.6/site-packages (from numba>=0.45.1->librosa) (59.6.0)\n",
      "Collecting llvmlite<0.37,>=0.36.0rc1\n",
      "  Using cached llvmlite-0.36.0-cp36-cp36m-manylinux2010_x86_64.whl (25.3 MB)\n",
      "Requirement already satisfied: pyparsing!=3.0.5,>=2.0.2 in /home/mansi/.local/lib/python3.6/site-packages (from packaging>=20.0->librosa) (2.3.1)\n",
      "Requirement already satisfied: requests>=2.19.0 in /home/mansi/.local/lib/python3.6/site-packages (from pooch>=1.0->librosa) (2.27.1)\n",
      "Requirement already satisfied: appdirs>=1.3.0 in /home/mansi/.local/lib/python3.6/site-packages (from pooch>=1.0->librosa) (1.4.3)\n",
      "Requirement already satisfied: six>=1.3 in /home/mansi/.local/lib/python3.6/site-packages (from resampy>=0.2.2->librosa) (1.15.0)\n",
      "Requirement already satisfied: threadpoolctl>=2.0.0 in /home/mansi/.local/lib/python3.6/site-packages (from scikit-learn>=0.19.1->librosa) (3.1.0)\n",
      "Requirement already satisfied: cffi>=1.0 in /home/mansi/.local/lib/python3.6/site-packages (from soundfile>=0.10.2->librosa) (1.15.0)\n",
      "Requirement already satisfied: pycparser in /home/mansi/.local/lib/python3.6/site-packages (from cffi>=1.0->soundfile>=0.10.2->librosa) (2.21)\n",
      "Requirement already satisfied: charset-normalizer~=2.0.0 in /home/mansi/.local/lib/python3.6/site-packages (from requests>=2.19.0->pooch>=1.0->librosa) (2.0.12)\n",
      "Requirement already satisfied: urllib3<1.27,>=1.21.1 in /home/mansi/.local/lib/python3.6/site-packages (from requests>=2.19.0->pooch>=1.0->librosa) (1.26.14)\n",
      "Requirement already satisfied: certifi>=2017.4.17 in /home/mansi/.local/lib/python3.6/site-packages (from requests>=2.19.0->pooch>=1.0->librosa) (2019.9.11)\n",
      "Requirement already satisfied: idna<4,>=2.5 in /home/mansi/.local/lib/python3.6/site-packages (from requests>=2.19.0->pooch>=1.0->librosa) (2.8)\n",
      "Installing collected packages: llvmlite, numba, pooch, librosa\n",
      "  Attempting uninstall: llvmlite\n",
      "    Found existing installation: llvmlite 0.31.0\n",
      "    Uninstalling llvmlite-0.31.0:\n",
      "      Successfully uninstalled llvmlite-0.31.0\n",
      "Successfully installed librosa-0.9.2 llvmlite-0.36.0 numba-0.53.1 pooch-1.6.0\n"
     ]
    }
   ],
   "source": [
    "!pip install librosa"
   ]
  },
  {
   "cell_type": "code",
   "execution_count": 1,
   "id": "01827b4c",
   "metadata": {},
   "outputs": [],
   "source": [
    "# Grammar Scoring Engine for Spoken Audio\n",
    "\n",
    "# ========== 1. IMPORT LIBRARIES ==========\n",
    "import os\n",
    "import numpy as np\n",
    "import pandas as pd\n",
    "import librosa\n",
    "import librosa.display\n",
    "import matplotlib.pyplot as plt\n",
    "import seaborn as sns\n",
    "\n",
    "from sklearn.model_selection import train_test_split\n",
    "from sklearn.preprocessing import StandardScaler\n",
    "from sklearn.ensemble import RandomForestRegressor\n",
    "from sklearn.metrics import mean_squared_error\n",
    "from scipy.stats import pearsonr\n",
    "\n",
    "import warnings\n",
    "warnings.filterwarnings(\"ignore\")\n"
   ]
  },
  {
   "cell_type": "code",
   "execution_count": 2,
   "id": "c10c3756",
   "metadata": {},
   "outputs": [
    {
     "name": "stdout",
     "output_type": "stream",
     "text": [
      "Train Samples: 444\n",
      "Test Samples: 204\n"
     ]
    }
   ],
   "source": [
    "# ========== 2. LOAD DATA ==========\n",
    "train_df = pd.read_csv(\"//home//mansi//Sumit Kumar, Satyendra//MN/shl-intern-hiring-assessment//Dataset//train.csv\")\n",
    "test_df = pd.read_csv(\"//home//mansi//Sumit Kumar, Satyendra//MN//shl-intern-hiring-assessment//Dataset//test.csv\")\n",
    "sample_submission = pd.read_csv(\"//home//mansi//Sumit Kumar, Satyendra//MN//shl-intern-hiring-assessment//Dataset//sample_submission.csv\")\n",
    "\n",
    "print(\"Train Samples:\", len(train_df))\n",
    "print(\"Test Samples:\", len(test_df))\n"
   ]
  },
  {
   "cell_type": "code",
   "execution_count": 3,
   "id": "1116a175",
   "metadata": {},
   "outputs": [],
   "source": [
    "# ========== 3. FEATURE EXTRACTION FUNCTION ==========\n",
    "def extract_mfcc_features(file_path, n_mfcc=20):\n",
    "    y, sr = librosa.load(file_path, sr=None)\n",
    "    mfcc = librosa.feature.mfcc(y=y, sr=sr, n_mfcc=n_mfcc)\n",
    "    mfcc_mean = np.mean(mfcc, axis=1)\n",
    "    mfcc_std = np.std(mfcc, axis=1)\n",
    "    return np.concatenate([mfcc_mean, mfcc_std])\n"
   ]
  },
  {
   "cell_type": "code",
   "execution_count": 3,
   "id": "24308e0d",
   "metadata": {},
   "outputs": [],
   "source": [
    "# Set correct audio directories\n",
    "TRAIN_AUDIO_DIR = \"//home//mansi//Sumit Kumar, Satyendra//MN//shl-intern-hiring-assessment//Dataset//audios//train\"\n",
    "TEST_AUDIO_DIR = \"//home//mansi//Sumit Kumar, Satyendra//MN//shl-intern-hiring-assessment//Dataset//audios//test\"\n"
   ]
  },
  {
   "cell_type": "code",
   "execution_count": 6,
   "id": "36b170d3",
   "metadata": {},
   "outputs": [
    {
     "name": "stdout",
     "output_type": "stream",
     "text": [
      "Index(['filename', 'label'], dtype='object')\n"
     ]
    }
   ],
   "source": [
    "print(train_df.columns)\n"
   ]
  },
  {
   "cell_type": "code",
   "execution_count": 8,
   "id": "73eb19f4",
   "metadata": {},
   "outputs": [],
   "source": [
    "train_features = []\n",
    "for fname in train_df['filename']:\n",
    "    file_path = os.path.join(TRAIN_AUDIO_DIR, fname)\n",
    "    feature = extract_mfcc_features(file_path)\n",
    "    train_features.append(feature)\n",
    "\n",
    "X = np.array(train_features)\n",
    "y = train_df['label'].values\n"
   ]
  },
  {
   "cell_type": "code",
   "execution_count": null,
   "id": "68eef188",
   "metadata": {},
   "outputs": [],
   "source": [
    "\n"
   ]
  },
  {
   "cell_type": "code",
   "execution_count": 9,
   "id": "59343446",
   "metadata": {},
   "outputs": [],
   "source": [
    "# ========== 5. SPLIT AND SCALE DATA ==========\n",
    "X_train, X_val, y_train, y_val = train_test_split(X, y, test_size=0.2, random_state=42)\n",
    "\n",
    "scaler = StandardScaler()\n",
    "X_train_scaled = scaler.fit_transform(X_train)\n",
    "X_val_scaled = scaler.transform(X_val)\n"
   ]
  },
  {
   "cell_type": "code",
   "execution_count": 10,
   "id": "a3a2f5e6",
   "metadata": {},
   "outputs": [],
   "source": [
    "# ========== 6. TRAIN A REGRESSION MODEL ==========\n",
    "model = RandomForestRegressor(n_estimators=100, random_state=42)\n",
    "model.fit(X_train_scaled, y_train)\n",
    "\n",
    "y_pred_train = model.predict(X_train_scaled)\n",
    "y_pred_val = model.predict(X_val_scaled)\n"
   ]
  },
  {
   "cell_type": "code",
   "execution_count": 11,
   "id": "f5213cef",
   "metadata": {},
   "outputs": [
    {
     "name": "stdout",
     "output_type": "stream",
     "text": [
      "Train RMSE: 0.3223\n",
      "Validation RMSE: 0.8412\n",
      "Validation Pearson Correlation: 0.7310\n"
     ]
    }
   ],
   "source": [
    "# ========== 7. EVALUATION ==========\n",
    "train_rmse = np.sqrt(mean_squared_error(y_train, y_pred_train))\n",
    "val_rmse = np.sqrt(mean_squared_error(y_val, y_pred_val))\n",
    "pearson_corr, _ = pearsonr(y_val, y_pred_val)\n",
    "\n",
    "print(f\"Train RMSE: {train_rmse:.4f}\")\n",
    "print(f\"Validation RMSE: {val_rmse:.4f}\")\n",
    "print(f\"Validation Pearson Correlation: {pearson_corr:.4f}\")\n"
   ]
  },
  {
   "cell_type": "code",
   "execution_count": 14,
   "id": "882bb220",
   "metadata": {},
   "outputs": [],
   "source": [
    "# ========== 8. EXTRACT FEATURES FROM TEST AUDIO ==========\n",
    "\n",
    "test_features = []\n",
    "for fname in test_df['filename']:\n",
    "    file_path = os.path.join(TEST_AUDIO_DIR, fname)\n",
    "    feature = extract_mfcc_features(file_path)\n",
    "    test_features.append(feature)\n",
    "\n",
    "X_test = np.array(test_features)\n",
    "\n",
    "# ========== 9. PREDICT TEST LABELS ==========\n",
    "test_preds = model.predict(X_test)\n"
   ]
  },
  {
   "cell_type": "code",
   "execution_count": 15,
   "id": "a2b0fc88",
   "metadata": {},
   "outputs": [],
   "source": [
    "# ========== 9. CREATE SUBMISSION ==========\n",
    "submission = pd.DataFrame({\n",
    "    'filename': test_df['filename'],     # match the original column name\n",
    "    'label': test_preds                  # match the expected label column\n",
    "})\n",
    "submission.to_csv(\"submission.csv\", index=False)\n",
    "\n"
   ]
  },
  {
   "cell_type": "code",
   "execution_count": 16,
   "id": "34abb20a",
   "metadata": {},
   "outputs": [
    {
     "data": {
      "image/png": "[encoded data removed]",
      "text/plain": [
       "<Figure size 1000x500 with 1 Axes>"
      ]
     },
     "metadata": {},
     "output_type": "display_data"
    }
   ],
   "source": [
    "# ========== 10. VISUALIZATION ==========\n",
    "plt.figure(figsize=(10, 5))\n",
    "sns.scatterplot(x=y_val, y=y_pred_val)\n",
    "plt.xlabel(\"Actual Grammar Score\")\n",
    "plt.ylabel(\"Predicted Grammar Score\")\n",
    "plt.title(\"Predicted vs Actual Grammar Scores (Validation Set)\")\n",
    "plt.grid()\n",
    "plt.show()\n"
   ]
  },
  {
   "cell_type": "code",
   "execution_count": null,
   "id": "8c57a0c7",
   "metadata": {},
   "outputs": [],
   "source": [
    "## 📘 Summary\n",
    "\n",
    "- **Approach**: MFCC-based feature extraction + RandomForest Regressor.\n",
    "- **Training RMSE**: `0.3223`\n",
    "- **Validation Pearson Correlation**: `0.8412`\n",
    "- **Feature Count**: 40 (20 MFCC mean + 20 MFCC std)\n",
    "- **Next Steps**: Try Wav2Vec2 embeddings, larger models, or sequence models (LSTM/CNN).\n",
    "\n",
    "Validation Pearson Correlation: 0.7310\n"
   ]
  }
 ],
 "metadata": {
  "kernelspec": {
   "display_name": "Python (tfsumit)",
   "language": "python",
   "name": "tfsumit"
  },
  "language_info": {
   "codemirror_mode": {
    "name": "ipython",
    "version": 3
   },
   "file_extension": ".py",
   "mimetype": "text/x-python",
   "name": "python",
   "nbconvert_exporter": "python",
   "pygments_lexer": "ipython3",
   "version": "3.8.13"
  }
 },
 "nbformat": 4,
 "nbformat_minor": 5
}
